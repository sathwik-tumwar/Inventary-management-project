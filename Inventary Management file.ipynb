{
 "cells": [
  {
   "cell_type": "code",
   "execution_count": 67,
   "id": "62e068d7",
   "metadata": {},
   "outputs": [],
   "source": [
    "s=open(\"Inventary.txt\",'w')\n",
    "s.close()"
   ]
  },
  {
   "cell_type": "markdown",
   "id": "cf5e6cf4",
   "metadata": {},
   "source": [
    "## product details\n",
    "1. product id\n",
    "2. product name\n",
    "3. cost of product\n",
    "4. quantity"
   ]
  },
  {
   "cell_type": "code",
   "execution_count": 18,
   "id": "1d63d78b",
   "metadata": {},
   "outputs": [],
   "source": [
    "s=open(\"Inventary.txt\",'r')\n",
    "text=s.read().split('\\n')\n",
    "s.close()"
   ]
  },
  {
   "cell_type": "code",
   "execution_count": 19,
   "id": "6a1a8dd2",
   "metadata": {},
   "outputs": [
    {
     "data": {
      "text/plain": [
       "['1,parleg,5,100',\n",
       " '2,good day,10,100',\n",
       " '3,bread,20,0',\n",
       " '4,milk,40,340',\n",
       " '5,bananas,30,50']"
      ]
     },
     "execution_count": 19,
     "metadata": {},
     "output_type": "execute_result"
    }
   ],
   "source": [
    "text"
   ]
  },
  {
   "cell_type": "code",
   "execution_count": 11,
   "id": "4ad0bd3e",
   "metadata": {},
   "outputs": [
    {
     "name": "stdout",
     "output_type": "stream",
     "text": [
      "['1,parleg,5,100', '2,good day,10,100', '3,bread,20,34', '4,milk,40,340', '5,bananas,30,50']\n"
     ]
    }
   ],
   "source": [
    "print(text)"
   ]
  },
  {
   "cell_type": "code",
   "execution_count": 12,
   "id": "1ab13670",
   "metadata": {},
   "outputs": [
    {
     "name": "stdout",
     "output_type": "stream",
     "text": [
      "1,parleg,5,100\n",
      "2,good day,10,100\n",
      "3,bread,20,34\n",
      "4,milk,40,340\n",
      "5,bananas,30,50\n"
     ]
    }
   ],
   "source": [
    "for i in text:\n",
    "    print(i)"
   ]
  },
  {
   "cell_type": "markdown",
   "id": "0e90531e",
   "metadata": {},
   "source": [
    "## buying products in shops\n"
   ]
  },
  {
   "cell_type": "code",
   "execution_count": 14,
   "id": "4d3bf54a",
   "metadata": {},
   "outputs": [
    {
     "name": "stdout",
     "output_type": "stream",
     "text": [
      "Enter the name          :rohan\n",
      "Enter the phone no     :8487823897\n",
      "Enter the mail id       :rohan@gamil.com\n",
      "enter the product id          :3\n",
      "enter the quantitiy          :40\n",
      "Sorry we dont have enough quantity\n",
      "we have only 34 quantities\n",
      "If you want to buy all quantity press yes else no\n",
      "Enter yes or noyes\n",
      "-----------------------------------------\n",
      "product id               :  3\n",
      "product name             :  bread\n",
      "quantity of product      :  34\n",
      "price of product         :  20\n",
      "------------------------------------------\n",
      "Buying amount            :  680\n",
      "------------------------------------------\n",
      "[['1', 'parleg', '5', '100'], ['2', 'good day', '10', '100'], ['3', 'bread', '20', '0'], ['4', 'milk', '40', '340'], ['5', 'bananas', '30', '50']]\n",
      "['1,parleg,5,100\\n', '2,good day,10,100\\n', '3,bread,20,0\\n', '4,milk,40,340\\n', '5,bananas,30,50']\n",
      "----------------------------\n",
      "Inventary updated\n"
     ]
    }
   ],
   "source": [
    "# importing time package which is used to display time of transaction\n",
    "import time\n",
    "# enter the input data\n",
    "user_name=input(\"Enter the name          :\")\n",
    "user_phone=input(\"Enter the phone no     :\")\n",
    "user_mail=input(\"Enter the mail id       :\")\n",
    "prod_id=input(\"enter the product id          :\")\n",
    "no_prod=input(\"enter the quantitiy          :\")\n",
    "new_list=[]\n",
    "# searching in list\n",
    "for i in text:\n",
    "    items=i.split(\",\")\n",
    "    # checking for product id in present in invetary or not\n",
    "    if(items[0]==prod_id):\n",
    "        # checking for enough quantity of product is present or not\n",
    "        if(int(no_prod)<=int(items[3])):\n",
    "            # displaying the billing amount\n",
    "            print(\"-----------------------------------------\")\n",
    "            print(\"product id               : \",prod_id)\n",
    "            print(\"product name             : \",items[1])\n",
    "            print(\"quantity of product      : \",no_prod)\n",
    "            print(\"price of product         : \",items[2])\n",
    "            print(\"------------------------------------------\")\n",
    "            print(\"Buying amount            : \",int(no_prod)*int(items[2]))\n",
    "            print(\"------------------------------------------\")\n",
    "            # updating the quantity of products\n",
    "            items[3]=str(int(items[3])-int(no_prod))\n",
    "            # storing the transaction data in sales file\n",
    "            fd=open(\"sales.txt\",'a')\n",
    "            sales_data=user_name+\",\"+user_phone+\",\"+user_mail+\",\"+prod_id+\",\"+no_prod+\",\"+str(int(no_prod)*int(items[2]))+\",\"+time.ctime()+\"\\n\"\n",
    "            fd.write(sales_data)\n",
    "            fd.close()\n",
    "        # if enough quantity of product is not present\n",
    "        else:\n",
    "            print(\"Sorry we dont have enough quantity\")\n",
    "            print(\"we have only\",items[3],\"quantities\")\n",
    "            print(\"If you want to buy all quantity press yes else no\")\n",
    "            inp2=input(\"Enter yes or no:\")\n",
    "            # if you want buy present quantity of product press yes\n",
    "            if(inp2==\"YES\"or inp2==\"yes\"):\n",
    "                # printing the billing amount\n",
    "                print(\"-----------------------------------------\")\n",
    "                print(\"product id               : \",prod_id)\n",
    "                print(\"product name             : \",items[1])\n",
    "                print(\"quantity of product      : \",items[3])\n",
    "                print(\"price of product         : \",items[2])\n",
    "                print(\"------------------------------------------\")\n",
    "                print(\"Buying amount            : \",int(items[3])*int(items[2]))\n",
    "                print(\"------------------------------------------\")\n",
    "                # storing the transaction data in sales file\n",
    "                fd=open(\"sales.txt\",'a')\n",
    "                sales_data=user_name+\",\"+user_phone+\",\"+user_mail+\",\"+prod_id+\",\"+no_prod+\",\"+str(int(items[3])*int(items[2]))+\",\"+time.ctime()+ \"\\n\"\n",
    "                fd.write(sales_data)\n",
    "                fd.close()\n",
    "                # updating the quantity of product\n",
    "                items[3]=\"0\"\n",
    "            else:\n",
    "                print(\"-----------------------------\")\n",
    "                print(\"Thankyou for visiting......\")\n",
    "                \n",
    "        \n",
    "    new_list.append(items)\n",
    "print(new_list)\n",
    "list1=[]\n",
    "for i in new_list:\n",
    "    prod=i[0]+\",\"+i[1]+\",\"+i[2]+\",\"+i[3]+\"\\n\"\n",
    "    list1.append(prod)\n",
    "list1[-1]=list1[-1][:-1]\n",
    "print(list1)\n",
    "f=open(\"Inventary.txt\",'w')\n",
    "for i in list1:\n",
    "    f.write(i)\n",
    "f.close()\n",
    "s=open(\"Inventary.txt\",'r')\n",
    "text=s.read().split('\\n')\n",
    "s.close()\n",
    "print(\"----------------------------\")\n",
    "print(\"Inventary updated\")\n",
    "\n",
    "    \n",
    "        "
   ]
  },
  {
   "cell_type": "markdown",
   "id": "868fbd63",
   "metadata": {},
   "source": [
    "## "
   ]
  },
  {
   "cell_type": "code",
   "execution_count": null,
   "id": "4ba4e10c",
   "metadata": {},
   "outputs": [],
   "source": []
  },
  {
   "cell_type": "code",
   "execution_count": null,
   "id": "21d883c7",
   "metadata": {},
   "outputs": [],
   "source": []
  }
 ],
 "metadata": {
  "kernelspec": {
   "display_name": "Python 3 (ipykernel)",
   "language": "python",
   "name": "python3"
  },
  "language_info": {
   "codemirror_mode": {
    "name": "ipython",
    "version": 3
   },
   "file_extension": ".py",
   "mimetype": "text/x-python",
   "name": "python",
   "nbconvert_exporter": "python",
   "pygments_lexer": "ipython3",
   "version": "3.9.12"
  }
 },
 "nbformat": 4,
 "nbformat_minor": 5
}
