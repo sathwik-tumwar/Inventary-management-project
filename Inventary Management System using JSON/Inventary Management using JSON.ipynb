{
 "cells": [
  {
   "cell_type": "markdown",
   "id": "93ce126d",
   "metadata": {},
   "source": [
    "## product billing\n"
   ]
  },
  {
   "cell_type": "code",
   "execution_count": 19,
   "id": "bc1463f0",
   "metadata": {
    "scrolled": true
   },
   "outputs": [
    {
     "name": "stdout",
     "output_type": "stream",
     "text": [
      "--------------------MENU-------------------\n",
      "\n",
      "1000 : parleg \t 10 \t 60\n",
      "1001 : bread \t 10 \t 80\n",
      "1002 : milk \t 10 \t 0\n",
      "1003 : candy \t 10 \t 200\n",
      "-------------------------------------------\n",
      "\n",
      "Enter the user name            :mineel\n",
      "Enter the user mail id         :mineel@gmail.com\n",
      "Enter the user phone no        :9027728873\n",
      "Enter the product id           :1003\n",
      "Enter the product quantity     :150\n",
      "--------------------------------------------\n",
      "          User Prchased Product Details    \n",
      "\n",
      "product name           : candy\n",
      "product price          : 10 Rs\n",
      "quantity of product    : 150\n",
      "----------------------------------------------\n",
      "               Billing Amount       \n",
      "\n",
      "total amount           : 1500 Rs \n",
      "\n",
      "------------------Thank you-------------------\n",
      "           Inventary updated         \n"
     ]
    }
   ],
   "source": [
    "# importing libraries\n",
    "import json\n",
    "import time\n",
    "# loading product details in to data by using JSON/dictionaries\n",
    "sales=\"\"\n",
    "s=open(\"data.json\",'r')\n",
    "js=s.read()\n",
    "s.close()\n",
    "data=json.loads(js)\n",
    "# printing menu of shop\n",
    "\n",
    "print(\"--------------------MENU-------------------\\n\")\n",
    "for i in data.keys():\n",
    "    print(i,\":\",data[i]['name'],\"\\t\",data[i]['price'],\"\\t\",data[i]['quantity'])\n",
    "print(\"-------------------------------------------\\n\")\n",
    "# user inputs\n",
    "user_name=str(input(\"Enter the user name            :\"))\n",
    "user_mail=str(input(\"Enter the user mail id         :\"))\n",
    "user_ph=str(input(\"Enter the user phone no        :\"))\n",
    "prod_id=str(input(\"Enter the product id           :\"))\n",
    "prod_quan=int(input(\"Enter the product quantity     :\"))\n",
    "print(\"--------------------------------------------\")\n",
    "# if user required quantity is available in Inventory\n",
    "if(data[prod_id]['quantity']>=prod_quan):\n",
    "    print(\"          User Prchased Product Details    \\n\")\n",
    "    print(\"product name           :\",data[prod_id]['name'])\n",
    "    print(\"product price          :\",data[prod_id]['price'],\"Rs\")\n",
    "    print(\"quantity of product    :\",prod_quan)\n",
    "    print(\"----------------------------------------------\")\n",
    "    print(\"               Billing Amount       \\n\")\n",
    "   #displaying bill amount\n",
    "    print(\"total amount           :\",data[prod_id]['price']*prod_quan,\"Rs\",\"\\n\")\n",
    "    print(\"------------------Thank you-------------------\")\n",
    "    print(\"           Inventary updated         \")\n",
    "    # updating the product quantity in Inventary\n",
    "    data[prod_id]['quantity']=data[prod_id]['quantity']-prod_quan\n",
    "    sales=user_name+\",\"+user_mail+\",\"+user_ph+\",\"+prod_id+\",\"+str(prod_quan)+\",\"+str(data[prod_id][\"price\"])+\",\"+str(data[prod_id]['price']*prod_quan)+\",\"+time.ctime()+\"\\n\"\n",
    "else:\n",
    "    print(\"Sorry, we are not enough quantity in our Inventory.\")\n",
    "    print(\"we are having only\",data[prod_id]['quantity'],\"quantity.\")\n",
    "    inp=str(input(\"press y or Y to purchase:\"))\n",
    "    print(\"----------------------------------------------\")\n",
    "    if(inp=='Y' or inp=='y'):\n",
    "        print(\"          User Prchased Product Details    \\n\")\n",
    "        print(\"product name           :\",data[prod_id]['name'])\n",
    "        print(\"product price          :\",data[prod_id]['price'],\"Rs\")\n",
    "        print(\"quantity of product    :\",data[prod_id]['quantity'])\n",
    "        print(\"----------------------------------------------\")\n",
    "        print(\"           Billing Amount       \\n\")\n",
    "        #displaying bill amount\n",
    "        print(\"total amount           :\",data[prod_id]['price']*data[prod_id]['quantity'],\"Rs\",\"\\n\")\n",
    "        print(\"------------------Thank you-------------------\")\n",
    "        print(\"          Inventory Updated           \")\n",
    "        sales=user_name+\",\"+user_mail+\",\"+user_ph+\",\"+prod_id+\",\"+str(data[prod_id]['quantity'])+\",\"+str(data[prod_id][\"price\"])+\",\"+str(data[prod_id]['price']*data[prod_id]['quantity'])+\",\"+time.ctime()+\"\\n\"\n",
    "        data[prod_id]['quantity']=0\n",
    "    else:\n",
    "        print(\"Thank you for visiting.....\")\n",
    "js=json.dumps(data)\n",
    "s=open(\"data.json\",'w')\n",
    "s.write(js)\n",
    "s.close()\n",
    "t=open(\"sales.csv\",'a')\n",
    "t.write(sales)\n",
    "t.close()"
   ]
  },
  {
   "cell_type": "code",
   "execution_count": null,
   "id": "4edfee84",
   "metadata": {},
   "outputs": [],
   "source": []
  },
  {
   "cell_type": "code",
   "execution_count": null,
   "id": "47229d17",
   "metadata": {},
   "outputs": [],
   "source": []
  }
 ],
 "metadata": {
  "kernelspec": {
   "display_name": "Python 3 (ipykernel)",
   "language": "python",
   "name": "python3"
  },
  "language_info": {
   "codemirror_mode": {
    "name": "ipython",
    "version": 3
   },
   "file_extension": ".py",
   "mimetype": "text/x-python",
   "name": "python",
   "nbconvert_exporter": "python",
   "pygments_lexer": "ipython3",
   "version": "3.9.12"
  }
 },
 "nbformat": 4,
 "nbformat_minor": 5
}
